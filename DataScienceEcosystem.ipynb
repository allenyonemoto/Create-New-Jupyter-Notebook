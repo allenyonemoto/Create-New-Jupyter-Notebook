{
 "cells": [
  {
   "cell_type": "markdown",
   "id": "ff426aec-0ba3-470b-9282-c89a3619d68c",
   "metadata": {},
   "source": [
    "<h1>Data Science Tools and Ecosystem<h1>"
   ]
  },
  {
   "cell_type": "markdown",
   "id": "e6576869-0f71-41a6-8298-5dd92a9417c1",
   "metadata": {
    "tags": []
   },
   "source": [
    "In this notebook, Data Science Tools and Ecosystem are summarized."
   ]
  },
  {
   "cell_type": "markdown",
   "id": "7b491636-211e-4d9e-8008-07836322739e",
   "metadata": {},
   "source": [
    "Objectives:\n",
    "1. List some popular languages that are used for Data Science.\n",
    "2. List some common libraries that are used for Data Science.\n",
    "3. Comment on Data Science tools."
   ]
  },
  {
   "cell_type": "markdown",
   "id": "a6ea435e-8201-4564-af0c-5e186cd59a49",
   "metadata": {},
   "source": [
    "Some of the most popular languages used for Data Science are:\n",
    "1. Python\n",
    "2. R\n",
    "3. SQL\n",
    "4. Java\n",
    "5. JavaScript\n",
    "6. C++\n",
    "7. Scala\n",
    "8. Julia"
   ]
  },
  {
   "cell_type": "markdown",
   "id": "ac502b55-306c-4579-a66b-ef23eaab22f8",
   "metadata": {},
   "source": [
    "Some of the most commonly used libraries for Data Science are:\n",
    "1. NumPy\n",
    "2. SciPy\n",
    "3. Pandas\n",
    "4. Matplotlib\n",
    "5. SciKit_Learn\n",
    "6. BeautifulSoup\n",
    "7. TensorFlow\n",
    "8. PyTorch"
   ]
  },
  {
   "cell_type": "markdown",
   "id": "11d874dc-acfd-41f8-b46a-8d5fb09b5024",
   "metadata": {},
   "source": [
    "|Data Science Tools|\n",
    "|:-----------------|\n",
    "| SAS              |\n",
    "| Apache Spark     |\n",
    "| BigML            |"
   ]
  },
  {
   "cell_type": "markdown",
   "id": "e327aa89-58a1-4fa9-b1ec-bfe7891e5dd6",
   "metadata": {
    "tags": []
   },
   "source": [
    "Below are a few examples of evaluating artithmetic expressions in Python."
   ]
  },
  {
   "cell_type": "code",
   "execution_count": 1,
   "id": "12bc8357-3229-405d-a7f2-ca73eb64fa43",
   "metadata": {
    "tags": []
   },
   "outputs": [
    {
     "data": {
      "text/plain": [
       "45"
      ]
     },
     "execution_count": 1,
     "metadata": {},
     "output_type": "execute_result"
    }
   ],
   "source": [
    "answer = compile(\"16 + 29\", \"<string>\", \"eval\")\n",
    "eval(answer)"
   ]
  },
  {
   "cell_type": "code",
   "execution_count": 2,
   "id": "7e5f3cda-9404-40b5-8a30-8da8357fc844",
   "metadata": {
    "tags": []
   },
   "outputs": [
    {
     "data": {
      "text/plain": [
       "2106"
      ]
     },
     "execution_count": 2,
     "metadata": {},
     "output_type": "execute_result"
    }
   ],
   "source": [
    "test = compile(\"(45 - 6) * 3 * 18\", \"<string>\", \"eval\")\n",
    "eval(test)"
   ]
  },
  {
   "cell_type": "code",
   "execution_count": 3,
   "id": "a2b8fcec-b182-4507-bd94-ac0aa26ad459",
   "metadata": {
    "tags": []
   },
   "outputs": [
    {
     "data": {
      "text/plain": [
       "157.07963267948966"
      ]
     },
     "execution_count": 3,
     "metadata": {},
     "output_type": "execute_result"
    }
   ],
   "source": [
    "import math\n",
    "new = compile(\"4 / 2 * math.pi * math.pow(5, 2)\", \"<string>\", \"eval\")\n",
    "eval(new)"
   ]
  },
  {
   "cell_type": "markdown",
   "id": "5d676436-8b88-4e7d-8075-4c6ba59d4728",
   "metadata": {},
   "source": [
    "This is a simple arithmetic expression to multiply then add integers."
   ]
  },
  {
   "cell_type": "code",
   "execution_count": 4,
   "id": "70c5495b-e2a6-4018-b2eb-1a6f2a3ebe16",
   "metadata": {
    "tags": []
   },
   "outputs": [
    {
     "data": {
      "text/plain": [
       "17"
      ]
     },
     "execution_count": 4,
     "metadata": {},
     "output_type": "execute_result"
    }
   ],
   "source": [
    "(3*4)+5"
   ]
  },
  {
   "cell_type": "markdown",
   "id": "e4c65939-4be2-4bcc-918a-88664056bd37",
   "metadata": {},
   "source": [
    "This will convert 200 minutes to hours by dividing by 60."
   ]
  },
  {
   "cell_type": "code",
   "execution_count": 5,
   "id": "8eb7e56b-2597-4e1e-9f13-5ffa8af6718c",
   "metadata": {
    "tags": []
   },
   "outputs": [
    {
     "name": "stdout",
     "output_type": "stream",
     "text": [
      "0  days,  3.3333333333333335  hours,  0  mins. \n"
     ]
    }
   ],
   "source": [
    "days = 0\n",
    "hours = 0\n",
    "mins = 0\n",
    "time = 200\n",
    "leftover_minutes = time % 1440\n",
    "hours = leftover_minutes / 60\n",
    "print(str(days), \" days, \", str(hours), \" hours, \", str(mins), \" mins. \")"
   ]
  },
  {
   "cell_type": "code",
   "execution_count": null,
   "id": "890db825-b45b-46af-8743-e9069c580a5c",
   "metadata": {},
   "outputs": [],
   "source": []
  },
  {
   "cell_type": "markdown",
   "id": "64d47c1a-8ede-47e7-bd53-997943c6c4cf",
   "metadata": {},
   "source": [
    "<h1>Author:<h1>\n",
    "<h4>Allen Yonemoto<h4>"
   ]
  },
  {
   "cell_type": "code",
   "execution_count": null,
   "id": "e637c6fd-b45f-4157-8d63-2142fda6da21",
   "metadata": {},
   "outputs": [],
   "source": []
  },
  {
   "cell_type": "code",
   "execution_count": null,
   "id": "0e5fac5e-2fc8-4b7a-a699-445ae7b419ab",
   "metadata": {},
   "outputs": [],
   "source": []
  }
 ],
 "metadata": {
  "kernelspec": {
   "display_name": "Python",
   "language": "python",
   "name": "conda-env-python-py"
  },
  "language_info": {
   "codemirror_mode": {
    "name": "ipython",
    "version": 3
   },
   "file_extension": ".py",
   "mimetype": "text/x-python",
   "name": "python",
   "nbconvert_exporter": "python",
   "pygments_lexer": "ipython3",
   "version": "3.7.12"
  }
 },
 "nbformat": 4,
 "nbformat_minor": 5
}
